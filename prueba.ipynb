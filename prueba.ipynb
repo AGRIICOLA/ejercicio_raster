{
 "cells": [
  {
   "cell_type": "code",
   "execution_count": null,
   "metadata": {},
   "outputs": [],
   "source": [
    "from rasterio import open\n",
    "from matplotlib import pyplot\n",
    "from numpy import nan, nanmin, nanmax\n",
    "\n",
    "image = open('/home/atorres/projects/innmortal/ejercicio_raster/insumos/1021_20230404_ndvi.tiff')\n",
    "\n",
    "print(f'File name: {image.name}')\n",
    "print(f'Open mode: {image.mode}')\n",
    "print(f'Metadata: {image.meta}')\n",
    "\n",
    "pixels = image.read(image.meta.get('count'))\n",
    "pixels[(pixels == -999)] = nan\n",
    "\n",
    "print(f'Data type: {type(pixels)}')\n",
    "print(f'Image size: {pixels.shape}')\n",
    "print(f'Max. value: {nanmax(pixels.flatten())}')\n",
    "print(f'Min. value: {nanmin(pixels.flatten())}')\n",
    "\n",
    "pyplot.imshow(pixels, cmap='RdYlGn')\n",
    "pyplot.show()"
   ]
  },
  {
   "cell_type": "code",
   "execution_count": 3,
   "metadata": {},
   "outputs": [
    {
     "data": {
      "text/plain": [
       "{'driver': 'GTiff',\n",
       " 'dtype': 'float64',\n",
       " 'nodata': -999.0,\n",
       " 'width': 173,\n",
       " 'height': 185,\n",
       " 'count': 1,\n",
       " 'crs': CRS.from_epsg(3857),\n",
       " 'transform': Affine(10.65825353862634, 0.0, -11320094.309662528,\n",
       "        0.0, -10.65825353862634, 2190147.407727897)}"
      ]
     },
     "execution_count": 3,
     "metadata": {},
     "output_type": "execute_result"
    }
   ],
   "source": [
    "image.meta"
   ]
  },
  {
   "cell_type": "code",
   "execution_count": 4,
   "metadata": {},
   "outputs": [
    {
     "data": {
      "text/plain": [
       "Affine(10.65825353862634, 0.0, -11320094.309662528,\n",
       "       0.0, -10.65825353862634, 2190147.407727897)"
      ]
     },
     "execution_count": 4,
     "metadata": {},
     "output_type": "execute_result"
    }
   ],
   "source": [
    "image.meta.get('transform')"
   ]
  }
 ],
 "metadata": {
  "kernelspec": {
   "display_name": "Python 3",
   "language": "python",
   "name": "python3"
  },
  "language_info": {
   "codemirror_mode": {
    "name": "ipython",
    "version": 3
   },
   "file_extension": ".py",
   "mimetype": "text/x-python",
   "name": "python",
   "nbconvert_exporter": "python",
   "pygments_lexer": "ipython3",
   "version": "3.10.12"
  }
 },
 "nbformat": 4,
 "nbformat_minor": 2
}
